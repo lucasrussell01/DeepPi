{
 "cells": [
  {
   "cell_type": "code",
   "execution_count": null,
   "metadata": {},
   "outputs": [],
   "source": [
    "import sys\n",
    "mod_path = \"../python\"\n",
    "sys.path.append(mod_path)\n",
    "from image_plotting import image_plotter\n",
    "\n",
    "\n",
    "# initiate instance of plotting class for current file\n",
    "\n",
    "plotter = image_plotter(\"/vols/cms/dw515/workareas/cp/CMSSW_10_6_19/src/DeepPi/EventTree.root\")\n",
    "# plotter = image_plotter(\"/home/hep/lcr119/HiggsTauTau/CMSSW_10_6_19/src/DeepPi/Production/EventTree_noCHS.root\") #ak4 jets\n",
    "# plotter = image_plotter(\"/home/hep/lcr119/HiggsTauTau/CMSSW_10_6_19/src/DeepPi/Production/EventTree.root\") #ak4CHS jets\n",
    "print(plotter.nEvts)\n",
    "\n",
    "def quick_full(ev): \n",
    "    barrel = plotter.get_barrel(ev)\n",
    "    plotter.plot_full(barrel[0], barrel[1], barrel[2], barrel[3], ev)\n",
    "\n",
    "def quick_tau(ev, DMs=[0,1,2,10,11]):\n",
    "    barrel = plotter.get_barrel(ev)\n",
    "    plotter.plot_tau(barrel[0], barrel[1], barrel[2], barrel[3], barrel[4], ev, DM=DMs)\n"
   ]
  },
  {
   "cell_type": "markdown",
   "metadata": {},
   "source": [
    "# Plot Full Detector"
   ]
  },
  {
   "cell_type": "code",
   "execution_count": null,
   "metadata": {
    "scrolled": false
   },
   "outputs": [],
   "source": [
    "ev=32\n",
    "quick_full(32)"
   ]
  },
  {
   "cell_type": "code",
   "execution_count": null,
   "metadata": {
    "scrolled": false
   },
   "outputs": [],
   "source": [
    "for ev in range(plotter.nEvts):\n",
    "    print(\"Event Number: \",ev)\n",
    "    barrel = plotter.get_barrel(ev)\n",
    "    plotter.plot_full(barrel[0], barrel[1], barrel[2], barrel[3], ev)\n",
    "    if ev>10:\n",
    "        break"
   ]
  },
  {
   "cell_type": "markdown",
   "metadata": {},
   "source": [
    "# Plot individual taus"
   ]
  },
  {
   "cell_type": "code",
   "execution_count": null,
   "metadata": {
    "scrolled": false
   },
   "outputs": [],
   "source": [
    "ev = 63\n",
    "quick_tau(ev, DMs=[1])"
   ]
  },
  {
   "cell_type": "code",
   "execution_count": null,
   "metadata": {},
   "outputs": [],
   "source": [
    "ev = 81\n",
    "quick_tau(ev, DMs=[1])"
   ]
  },
  {
   "cell_type": "code",
   "execution_count": null,
   "metadata": {
    "scrolled": false
   },
   "outputs": [],
   "source": [
    "for i in range(plotter.nEvts):\n",
    "    barrel = plotter.get_barrel(i)\n",
    "    plotter.plot_tau(barrel[0], barrel[1], barrel[2], barrel[3], barrel[4], i, DM = [0])\n",
    "    if i>100:\n",
    "        break"
   ]
  }
 ],
 "metadata": {
  "kernelspec": {
   "display_name": "Python 3 (ipykernel)",
   "language": "python",
   "name": "python3"
  },
  "language_info": {
   "codemirror_mode": {
    "name": "ipython",
    "version": 3
   },
   "file_extension": ".py",
   "mimetype": "text/x-python",
   "name": "python",
   "nbconvert_exporter": "python",
   "pygments_lexer": "ipython3",
   "version": "3.8.13"
  }
 },
 "nbformat": 4,
 "nbformat_minor": 2
}
