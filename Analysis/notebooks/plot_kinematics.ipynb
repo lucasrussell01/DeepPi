{
 "cells": [
  {
   "cell_type": "code",
   "execution_count": 2,
   "id": "8eedb116",
   "metadata": {},
   "outputs": [],
   "source": [
    "import sys\n",
    "mod_path = \"../python\"\n",
    "sys.path.append(mod_path)\n",
    "from kinematic_distribution import distribution_plotter\n",
    "import numpy as np"
   ]
  },
  {
   "cell_type": "code",
   "execution_count": 3,
   "id": "0cefc52e",
   "metadata": {
    "scrolled": false
   },
   "outputs": [
    {
     "name": "stdout",
     "output_type": "stream",
     "text": [
      "File 1 out of 82 processed\n",
      "File 2 out of 82 processed\n",
      "File 3 out of 82 processed\n",
      "File 4 out of 82 processed\n",
      "File 5 out of 82 processed\n",
      "File 6 out of 82 processed\n",
      "File 7 out of 82 processed\n",
      "File 8 out of 82 processed\n",
      "File 9 out of 82 processed\n",
      "File 10 out of 82 processed\n",
      "File 11 out of 82 processed\n",
      "File 12 out of 82 processed\n",
      "File 13 out of 82 processed\n",
      "File 14 out of 82 processed\n",
      "File 15 out of 82 processed\n",
      "File 16 out of 82 processed\n",
      "File 17 out of 82 processed\n",
      "File 18 out of 82 processed\n",
      "File 19 out of 82 processed\n",
      "File 20 out of 82 processed\n",
      "File 21 out of 82 processed\n",
      "File 22 out of 82 processed\n",
      "File 23 out of 82 processed\n",
      "File 24 out of 82 processed\n",
      "File 25 out of 82 processed\n",
      "File 26 out of 82 processed\n",
      "File 27 out of 82 processed\n",
      "File 28 out of 82 processed\n",
      "File 29 out of 82 processed\n",
      "File 30 out of 82 processed\n",
      "File 31 out of 82 processed\n",
      "File 32 out of 82 processed\n",
      "File 33 out of 82 processed\n",
      "File 34 out of 82 processed\n",
      "File 35 out of 82 processed\n",
      "File 36 out of 82 processed\n",
      "File 37 out of 82 processed\n",
      "File 38 out of 82 processed\n",
      "File 39 out of 82 processed\n",
      "File 40 out of 82 processed\n",
      "File 41 out of 82 processed\n",
      "File 42 out of 82 processed\n",
      "File 43 out of 82 processed\n",
      "File 44 out of 82 processed\n",
      "File 45 out of 82 processed\n",
      "File 46 out of 82 processed\n",
      "File 47 out of 82 processed\n",
      "File 48 out of 82 processed\n",
      "File 49 out of 82 processed\n",
      "File 50 out of 82 processed\n",
      "File 51 out of 82 processed\n",
      "File 52 out of 82 processed\n",
      "File 53 out of 82 processed\n",
      "File 54 out of 82 processed\n",
      "File 55 out of 82 processed\n",
      "File 56 out of 82 processed\n",
      "File 57 out of 82 processed\n",
      "File 58 out of 82 processed\n",
      "File 59 out of 82 processed\n",
      "File 60 out of 82 processed\n",
      "File 61 out of 82 processed\n",
      "File 62 out of 82 processed\n",
      "File 63 out of 82 processed\n",
      "File 64 out of 82 processed\n",
      "File 65 out of 82 processed\n",
      "File 66 out of 82 processed\n",
      "File 67 out of 82 processed\n",
      "File 68 out of 82 processed\n",
      "File 69 out of 82 processed\n",
      "File 70 out of 82 processed\n",
      "File 71 out of 82 processed\n",
      "File 72 out of 82 processed\n",
      "File 73 out of 82 processed\n",
      "File 74 out of 82 processed\n",
      "File 75 out of 82 processed\n",
      "File 76 out of 82 processed\n",
      "File 77 out of 82 processed\n",
      "File 78 out of 82 processed\n",
      "File 79 out of 82 processed\n",
      "File 80 out of 82 processed\n",
      "File 81 out of 82 processed\n",
      "File 82 out of 82 processed\n",
      "All files loaded\n"
     ]
    }
   ],
   "source": [
    "plotter = distribution_plotter(\"/vols/cms/lcr119/Images/v2Images\")"
   ]
  },
  {
   "cell_type": "code",
   "execution_count": 7,
   "id": "98f99c19",
   "metadata": {},
   "outputs": [
    {
     "data": {
      "image/png": "[encoded data removed]",
      "text/plain": [
       "<Figure size 432x288 with 1 Axes>"
      ]
     },
     "metadata": {
      "needs_background": "light"
     },
     "output_type": "display_data"
    }
   ],
   "source": [
    "# bins = np.arange(-0.3, 0.31, 0.01)\n",
    "plotter.plot_eta(bins=[-0.3, 0.3], n_bins=100, DM=[1, 11])"
   ]
  },
  {
   "cell_type": "code",
   "execution_count": 8,
   "id": "f3845cc3",
   "metadata": {},
   "outputs": [
    {
     "data": {
      "image/png": "[encoded data removed]",
      "text/plain": [
       "<Figure size 432x288 with 1 Axes>"
      ]
     },
     "metadata": {
      "needs_background": "light"
     },
     "output_type": "display_data"
    }
   ],
   "source": [
    "plotter.plot_phi(bins=[-0.3, 0.3], n_bins=100, DM=[1, 11])"
   ]
  },
  {
   "cell_type": "code",
   "execution_count": 9,
   "id": "80ff94b8",
   "metadata": {},
   "outputs": [
    {
     "data": {
      "image/png": "[encoded data removed]",
      "text/plain": [
       "<Figure size 432x288 with 1 Axes>"
      ]
     },
     "metadata": {
      "needs_background": "light"
     },
     "output_type": "display_data"
    }
   ],
   "source": [
    "plotter.plot_p(bins=[0, 200], n_bins=100, DM=[1, 11])"
   ]
  },
  {
   "cell_type": "code",
   "execution_count": null,
   "id": "03aa5cb1",
   "metadata": {},
   "outputs": [],
   "source": []
  }
 ],
 "metadata": {
  "kernelspec": {
   "display_name": "Python 3 (ipykernel)",
   "language": "python",
   "name": "python3"
  },
  "language_info": {
   "codemirror_mode": {
    "name": "ipython",
    "version": 3
   },
   "file_extension": ".py",
   "mimetype": "text/x-python",
   "name": "python",
   "nbconvert_exporter": "python",
   "pygments_lexer": "ipython3",
   "version": "3.8.13"
  }
 },
 "nbformat": 4,
 "nbformat_minor": 5
}
