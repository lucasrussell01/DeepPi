{
 "cells": [
  {
   "cell_type": "code",
   "execution_count": null,
   "id": "d36c5bd2",
   "metadata": {},
   "outputs": [],
   "source": [
    "import sys\n",
    "mod_path = \"../python\"\n",
    "sys.path.append(mod_path)\n",
    "from confusion_matrix import cm_plotter"
   ]
  },
  {
   "cell_type": "code",
   "execution_count": null,
   "id": "16f509de",
   "metadata": {},
   "outputs": [],
   "source": [
    "path_to_mlflow = \"../../Training/python/mlruns/\"\n",
    "expID = \"3\"\n",
    "runID = \"c481a804abcf441aaaf23e2a5870c98f\""
   ]
  }
 ],
 "metadata": {
  "kernelspec": {
   "display_name": "Python 3 (ipykernel)",
   "language": "python",
   "name": "python3"
  },
  "language_info": {
   "codemirror_mode": {
    "name": "ipython",
    "version": 3
   },
   "file_extension": ".py",
   "mimetype": "text/x-python",
   "name": "python",
   "nbconvert_exporter": "python",
   "pygments_lexer": "ipython3",
   "version": "3.8.13"
  }
 },
 "nbformat": 4,
 "nbformat_minor": 5
}
